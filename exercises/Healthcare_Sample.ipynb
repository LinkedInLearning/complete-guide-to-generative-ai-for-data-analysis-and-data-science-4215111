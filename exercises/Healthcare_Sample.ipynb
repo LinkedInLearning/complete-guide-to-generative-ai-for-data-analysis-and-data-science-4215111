{
  "nbformat": 4,
  "nbformat_minor": 0,
  "metadata": {
    "colab": {
      "provenance": []
    },
    "kernelspec": {
      "name": "python3",
      "display_name": "Python 3"
    },
    "language_info": {
      "name": "python"
    }
  },
  "cells": [
    {
      "cell_type": "code",
      "execution_count": 1,
      "metadata": {
        "colab": {
          "base_uri": "https://localhost:8080/"
        },
        "id": "8WU840zqq52b",
        "outputId": "bd0322f6-7697-4bf6-f874-1cdbc7f0d696"
      },
      "outputs": [
        {
          "output_type": "stream",
          "name": "stdout",
          "text": [
            "The file /content/healthcare_dataset.csv does not exist.\n",
            "None\n"
          ]
        }
      ],
      "source": [
        "import pandas as pd\n",
        "import random\n",
        "\n",
        "def sample_csv(file_name, num_rows):\n",
        "    try:\n",
        "        # Read the CSV file\n",
        "        data = pd.read_csv(file_name)\n",
        "\n",
        "        # Check if the requested number of rows is greater than the available rows\n",
        "        if num_rows > len(data):\n",
        "            raise ValueError(f\"Requested number of rows {num_rows} exceeds the total number of rows {len(data)} in the file.\")\n",
        "\n",
        "        # Randomly sample the specified number of rows\n",
        "        sampled_data = data.sample(n=num_rows)\n",
        "\n",
        "        return sampled_data\n",
        "    except FileNotFoundError:\n",
        "        print(f\"The file {file_name} does not exist.\")\n",
        "    except ValueError as e:\n",
        "        print(e)\n",
        "\n",
        "# Example usage\n",
        "file_name = '/content/healthcare_dataset.csv'  # Replace with your CSV file path\n",
        "num_rows = 50               # Replace with the number of rows you want to sample\n",
        "\n",
        "sampled_data = sample_csv(file_name, num_rows)\n",
        "print(sampled_data)\n"
      ]
    },
    {
      "cell_type": "code",
      "source": [
        "import pandas as pd\n",
        "import random\n",
        "\n",
        "def sample_csv(file_name, num_rows, output_file_name):\n",
        "    try:\n",
        "        # Read the CSV file\n",
        "        data = pd.read_csv(file_name)\n",
        "\n",
        "        # Check if the requested number of rows is greater than the available rows\n",
        "        if num_rows > len(data):\n",
        "            raise ValueError(f\"Requested number of rows {num_rows} exceeds the total number of rows {len(data)} in the file.\")\n",
        "\n",
        "        # Randomly sample the specified number of rows\n",
        "        sampled_data = data.sample(n=num_rows)\n",
        "\n",
        "        # Save the sampled data to a new CSV file\n",
        "        sampled_data.to_csv(output_file_name, index=False)\n",
        "        print(f\"Sampled data saved to {output_file_name}\")\n",
        "\n",
        "    except FileNotFoundError:\n",
        "        print(f\"The file {file_name} does not exist.\")\n",
        "    except ValueError as e:\n",
        "        print(e)\n",
        "\n",
        "# Example usage\n",
        "file_name = '/content/healthcare_dataset.csv'         # Replace with your CSV file path\n",
        "num_rows = 10                       # Replace with the number of rows you want to sample\n",
        "output_file_name = '/content/healthcare_sample.csv' # Replace with the output file name\n",
        "\n",
        "sample_csv(file_name, num_rows, output_file_name)\n"
      ],
      "metadata": {
        "colab": {
          "base_uri": "https://localhost:8080/"
        },
        "id": "6Jhd_ssDvXu8",
        "outputId": "2afa54c6-1df8-4942-ad06-9e7aed6cfb4a"
      },
      "execution_count": null,
      "outputs": [
        {
          "output_type": "stream",
          "name": "stdout",
          "text": [
            "Sampled data saved to /content/healthcare_sample.csv\n"
          ]
        }
      ]
    },
    {
      "cell_type": "code",
      "source": [
        "import pandas as pd\n",
        "import random\n",
        "\n",
        "def sample_csv(file_name, num_rows, output_file_name):\n",
        "    try:\n",
        "        # Read the CSV file\n",
        "        data = pd.read_csv(file_name)\n",
        "\n",
        "        # Check if the requested number of rows is greater than the available rows\n",
        "        if num_rows > len(data):\n",
        "            raise ValueError(f\"Requested number of rows {num_rows} exceeds the total number of rows {len(data)} in the file.\")\n",
        "\n",
        "        # Print mean and standard deviation of Admission_Deposit in the source file\n",
        "        if 'Admission_Deposit' in data.columns:\n",
        "            mean_source = data['Admission_Deposit'].mean()\n",
        "            std_source = data['Admission_Deposit'].std()\n",
        "            print(f\"Source File - Mean of Admission_Deposit: {mean_source}\")\n",
        "            print(f\"Source File - Standard Deviation of Admission_Deposit: {std_source}\")\n",
        "        else:\n",
        "            raise KeyError(\"Column 'Admission_Deposit' does not exist in the source file.\")\n",
        "\n",
        "        # Randomly sample the specified number of rows\n",
        "        sampled_data = data.sample(n=num_rows)\n",
        "\n",
        "        # Print mean and standard deviation of Admission_Deposit in the sampled data\n",
        "        mean_sampled = sampled_data['Admission_Deposit'].mean()\n",
        "        std_sampled = sampled_data['Admission_Deposit'].std()\n",
        "        print(f\"Sampled Data - Mean of Admission_Deposit: {mean_sampled}\")\n",
        "        print(f\"Sampled Data - Standard Deviation of Admission_Deposit: {std_sampled}\")\n",
        "\n",
        "        # Save the sampled data to a new CSV file\n",
        "        sampled_data.to_csv(output_file_name, index=False)\n",
        "        print(f\"Sampled data saved to {output_file_name}\")\n",
        "\n",
        "    except FileNotFoundError:\n",
        "        print(f\"The file {file_name} does not exist.\")\n",
        "    except ValueError as e:\n",
        "        print(e)\n",
        "    except KeyError as e:\n",
        "        print(e)\n",
        "\n",
        "# Example usage\n",
        "file_name = '/content/healthcare_dataset.csv'         # Replace with your CSV file path\n",
        "num_rows = 5000                       # Replace with the number of rows you want to sample\n",
        "output_file_name = 'sampled_file_100.csv' # Replace with the output file name\n",
        "\n",
        "sample_csv(file_name, num_rows, output_file_name)\n"
      ],
      "metadata": {
        "colab": {
          "base_uri": "https://localhost:8080/"
        },
        "id": "XJDCW-8YzAc3",
        "outputId": "1cd088c3-093b-4262-e07e-43b834daff48"
      },
      "execution_count": null,
      "outputs": [
        {
          "output_type": "stream",
          "name": "stdout",
          "text": [
            "Source File - Mean of Admission_Deposit: 5135.848\n",
            "Source File - Standard Deviation of Admission_Deposit: 970.7244758929381\n",
            "Sampled Data - Mean of Admission_Deposit: 5135.848\n",
            "Sampled Data - Standard Deviation of Admission_Deposit: 970.7244758929381\n",
            "Sampled data saved to sampled_file_100.csv\n"
          ]
        }
      ]
    }
  ]
}